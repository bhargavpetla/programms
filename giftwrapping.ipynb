{
  "nbformat": 4,
  "nbformat_minor": 0,
  "metadata": {
    "colab": {
      "name": "giftwrapping.ipynb",
      "provenance": [],
      "collapsed_sections": [],
      "mount_file_id": "16zuN7ghRC2_cNoxuv-3Io0mf2dj2NjPJ",
      "authorship_tag": "ABX9TyOKWHh6JcdlzoDM/nrrUGtG",
      "include_colab_link": true
    },
    "kernelspec": {
      "name": "python3",
      "display_name": "Python 3"
    },
    "language_info": {
      "name": "python"
    }
  },
  "cells": [
    {
      "cell_type": "markdown",
      "metadata": {
        "id": "view-in-github",
        "colab_type": "text"
      },
      "source": [
        "<a href=\"https://colab.research.google.com/github/bhargavpetla/programms/blob/main/giftwrapping.ipynb\" target=\"_parent\"><img src=\"https://colab.research.google.com/assets/colab-badge.svg\" alt=\"Open In Colab\"/></a>"
      ]
    },
    {
      "cell_type": "code",
      "metadata": {
        "colab": {
          "base_uri": "https://localhost:8080/",
          "height": 318
        },
        "id": "xUuS8Cn5hwBQ",
        "outputId": "ab09d017-1fc6-42dd-a2af-9fd6caf29cfa"
      },
      "source": [
        "from collections import namedtuple  \n",
        "import matplotlib.pyplot as plt  \n",
        "import random\n",
        "\n",
        "Point = namedtuple('Point', 'x y')\n",
        "\n",
        "\n",
        "class ConvexHull(object):  \n",
        "    _points = []\n",
        "    _hull_points = []\n",
        "\n",
        "    def __init__(self):\n",
        "        pass\n",
        "\n",
        "    def add(self, point):\n",
        "        self._points.append(point)\n",
        "\n",
        "    def _get_orientation(self, origin, p1, p2):\n",
        "        '''\n",
        "        Returns the orientation of the Point p1 with regards to Point p2 using origin.\n",
        "        Negative if p1 is clockwise of p2.\n",
        "        :param p1:\n",
        "        :param p2:\n",
        "        :return: integer\n",
        "        '''\n",
        "        difference = (\n",
        "            ((p2.x - origin.x) * (p1.y - origin.y))\n",
        "            - ((p1.x - origin.x) * (p2.y - origin.y))\n",
        "        )\n",
        "\n",
        "        return difference\n",
        "\n",
        "    def compute_hull(self):\n",
        "        '''\n",
        "        Computes the points that make up the convex hull.\n",
        "        :return:\n",
        "        '''\n",
        "        points = self._points\n",
        "\n",
        "        # get leftmost point\n",
        "        start = points[0]\n",
        "        min_x = start.x\n",
        "        for p in points[1:]:\n",
        "            if p.x < min_x:\n",
        "                min_x = p.x\n",
        "                start = p\n",
        "\n",
        "        point = start\n",
        "        self._hull_points.append(start)\n",
        "\n",
        "        far_point = None\n",
        "        while far_point is not start:\n",
        "\n",
        "            # get the first point (initial max) to use to compare with others\n",
        "            p1 = None\n",
        "            for p in points:\n",
        "                if p is point:\n",
        "                    continue\n",
        "                else:\n",
        "                    p1 = p\n",
        "                    break\n",
        "\n",
        "            far_point = p1\n",
        "\n",
        "            for p2 in points:\n",
        "                # ensure we aren't comparing to self or pivot point\n",
        "                if p2 is point or p2 is p1:\n",
        "                    continue\n",
        "                else:\n",
        "                    direction = self._get_orientation(point, far_point, p2)\n",
        "                    if direction > 0:\n",
        "                        far_point = p2\n",
        "\n",
        "            self._hull_points.append(far_point)\n",
        "            point = far_point\n",
        "\n",
        "    def get_hull_points(self):\n",
        "        if self._points and not self._hull_points:\n",
        "            self.compute_hull()\n",
        "\n",
        "        return self._hull_points\n",
        "\n",
        "    def display(self):\n",
        "        # all points\n",
        "        x = [p.x for p in self._points]\n",
        "        y = [p.y for p in self._points]\n",
        "        plt.plot(x, y, marker='D', linestyle='None')\n",
        "\n",
        "        # hull points\n",
        "        hx = [p.x for p in self._hull_points]\n",
        "        hy = [p.y for p in self._hull_points]\n",
        "        plt.plot(hx, hy)\n",
        "\n",
        "        plt.title('Convex Hull')\n",
        "        plt.show()\n",
        "\n",
        "\n",
        "def main():  \n",
        "    ch = ConvexHull()\n",
        "    for _ in range(50):\n",
        "        ch.add(Point(random.randint(-100, 100), random.randint(-100, 100)))\n",
        "\n",
        "    print(\"Points on hull:\", ch.get_hull_points())\n",
        "    ch.display()\n",
        "\n",
        "\n",
        "if __name__ == '__main__':  \n",
        "    main()"
      ],
      "execution_count": 2,
      "outputs": [
        {
          "output_type": "stream",
          "name": "stdout",
          "text": [
            "Points on hull: [Point(x=-100, y=15), Point(x=-97, y=-72), Point(x=-71, y=-99), Point(x=65, y=-91), Point(x=87, y=-58), Point(x=94, y=5), Point(x=77, y=65), Point(x=62, y=92), Point(x=37, y=91), Point(x=-65, y=82), Point(x=-86, y=61), Point(x=-99, y=32), Point(x=-100, y=15)]\n"
          ]
        },
        {
          "output_type": "display_data",
          "data": {
            "image/png": "[encoded data removed]",
            "text/plain": [
              "<Figure size 432x288 with 1 Axes>"
            ]
          },
          "metadata": {
            "needs_background": "light"
          }
        }
      ]
    }
  ]
}